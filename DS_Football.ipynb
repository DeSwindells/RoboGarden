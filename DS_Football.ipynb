{
 "cells": [
  {
   "cell_type": "code",
   "execution_count": null,
   "id": "96bc8e0c",
   "metadata": {},
   "outputs": [
    {
     "data": {
      "text/html": [
       "<div>\n",
       "<style scoped>\n",
       "    .dataframe tbody tr th:only-of-type {\n",
       "        vertical-align: middle;\n",
       "    }\n",
       "\n",
       "    .dataframe tbody tr th {\n",
       "        vertical-align: top;\n",
       "    }\n",
       "\n",
       "    .dataframe thead th {\n",
       "        text-align: right;\n",
       "    }\n",
       "</style>\n",
       "<table border=\"1\" class=\"dataframe\">\n",
       "  <thead>\n",
       "    <tr style=\"text-align: right;\">\n",
       "      <th></th>\n",
       "      <th>date</th>\n",
       "      <th>home_team</th>\n",
       "      <th>away_team</th>\n",
       "      <th>home_score</th>\n",
       "      <th>away_score</th>\n",
       "      <th>tournament</th>\n",
       "      <th>city</th>\n",
       "      <th>country</th>\n",
       "      <th>neutral</th>\n",
       "    </tr>\n",
       "  </thead>\n",
       "  <tbody>\n",
       "    <tr>\n",
       "      <th>0</th>\n",
       "      <td>1872-11-30</td>\n",
       "      <td>Scotland</td>\n",
       "      <td>England</td>\n",
       "      <td>0</td>\n",
       "      <td>0</td>\n",
       "      <td>Friendly</td>\n",
       "      <td>Glasgow</td>\n",
       "      <td>Scotland</td>\n",
       "      <td>False</td>\n",
       "    </tr>\n",
       "    <tr>\n",
       "      <th>1</th>\n",
       "      <td>1873-03-08</td>\n",
       "      <td>England</td>\n",
       "      <td>Scotland</td>\n",
       "      <td>4</td>\n",
       "      <td>2</td>\n",
       "      <td>Friendly</td>\n",
       "      <td>London</td>\n",
       "      <td>England</td>\n",
       "      <td>False</td>\n",
       "    </tr>\n",
       "    <tr>\n",
       "      <th>2</th>\n",
       "      <td>1874-03-07</td>\n",
       "      <td>Scotland</td>\n",
       "      <td>England</td>\n",
       "      <td>2</td>\n",
       "      <td>1</td>\n",
       "      <td>Friendly</td>\n",
       "      <td>Glasgow</td>\n",
       "      <td>Scotland</td>\n",
       "      <td>False</td>\n",
       "    </tr>\n",
       "    <tr>\n",
       "      <th>3</th>\n",
       "      <td>1875-03-06</td>\n",
       "      <td>England</td>\n",
       "      <td>Scotland</td>\n",
       "      <td>2</td>\n",
       "      <td>2</td>\n",
       "      <td>Friendly</td>\n",
       "      <td>London</td>\n",
       "      <td>England</td>\n",
       "      <td>False</td>\n",
       "    </tr>\n",
       "    <tr>\n",
       "      <th>4</th>\n",
       "      <td>1876-03-04</td>\n",
       "      <td>Scotland</td>\n",
       "      <td>England</td>\n",
       "      <td>3</td>\n",
       "      <td>0</td>\n",
       "      <td>Friendly</td>\n",
       "      <td>Glasgow</td>\n",
       "      <td>Scotland</td>\n",
       "      <td>False</td>\n",
       "    </tr>\n",
       "    <tr>\n",
       "      <th>...</th>\n",
       "      <td>...</td>\n",
       "      <td>...</td>\n",
       "      <td>...</td>\n",
       "      <td>...</td>\n",
       "      <td>...</td>\n",
       "      <td>...</td>\n",
       "      <td>...</td>\n",
       "      <td>...</td>\n",
       "      <td>...</td>\n",
       "    </tr>\n",
       "    <tr>\n",
       "      <th>42645</th>\n",
       "      <td>2021-09-09</td>\n",
       "      <td>Colombia</td>\n",
       "      <td>Chile</td>\n",
       "      <td>3</td>\n",
       "      <td>1</td>\n",
       "      <td>FIFA World Cup qualification</td>\n",
       "      <td>Barranquilla</td>\n",
       "      <td>Colombia</td>\n",
       "      <td>False</td>\n",
       "    </tr>\n",
       "    <tr>\n",
       "      <th>42646</th>\n",
       "      <td>2021-09-09</td>\n",
       "      <td>Paraguay</td>\n",
       "      <td>Venezuela</td>\n",
       "      <td>2</td>\n",
       "      <td>1</td>\n",
       "      <td>FIFA World Cup qualification</td>\n",
       "      <td>Asunción</td>\n",
       "      <td>Paraguay</td>\n",
       "      <td>False</td>\n",
       "    </tr>\n",
       "    <tr>\n",
       "      <th>42647</th>\n",
       "      <td>2021-09-09</td>\n",
       "      <td>Uruguay</td>\n",
       "      <td>Ecuador</td>\n",
       "      <td>1</td>\n",
       "      <td>0</td>\n",
       "      <td>FIFA World Cup qualification</td>\n",
       "      <td>Montevideo</td>\n",
       "      <td>Uruguay</td>\n",
       "      <td>False</td>\n",
       "    </tr>\n",
       "    <tr>\n",
       "      <th>42648</th>\n",
       "      <td>2021-09-09</td>\n",
       "      <td>Argentina</td>\n",
       "      <td>Bolivia</td>\n",
       "      <td>3</td>\n",
       "      <td>0</td>\n",
       "      <td>FIFA World Cup qualification</td>\n",
       "      <td>Buenos Aires</td>\n",
       "      <td>Argentina</td>\n",
       "      <td>False</td>\n",
       "    </tr>\n",
       "    <tr>\n",
       "      <th>42649</th>\n",
       "      <td>2021-09-09</td>\n",
       "      <td>Brazil</td>\n",
       "      <td>Peru</td>\n",
       "      <td>2</td>\n",
       "      <td>0</td>\n",
       "      <td>FIFA World Cup qualification</td>\n",
       "      <td>Recife</td>\n",
       "      <td>Brazil</td>\n",
       "      <td>False</td>\n",
       "    </tr>\n",
       "  </tbody>\n",
       "</table>\n",
       "<p>42650 rows × 9 columns</p>\n",
       "</div>"
      ],
      "text/plain": [
       "             date  home_team  away_team  home_score  away_score  \\\n",
       "0      1872-11-30   Scotland    England           0           0   \n",
       "1      1873-03-08    England   Scotland           4           2   \n",
       "2      1874-03-07   Scotland    England           2           1   \n",
       "3      1875-03-06    England   Scotland           2           2   \n",
       "4      1876-03-04   Scotland    England           3           0   \n",
       "...           ...        ...        ...         ...         ...   \n",
       "42645  2021-09-09   Colombia      Chile           3           1   \n",
       "42646  2021-09-09   Paraguay  Venezuela           2           1   \n",
       "42647  2021-09-09    Uruguay    Ecuador           1           0   \n",
       "42648  2021-09-09  Argentina    Bolivia           3           0   \n",
       "42649  2021-09-09     Brazil       Peru           2           0   \n",
       "\n",
       "                         tournament          city    country  neutral  \n",
       "0                          Friendly       Glasgow   Scotland    False  \n",
       "1                          Friendly        London    England    False  \n",
       "2                          Friendly       Glasgow   Scotland    False  \n",
       "3                          Friendly        London    England    False  \n",
       "4                          Friendly       Glasgow   Scotland    False  \n",
       "...                             ...           ...        ...      ...  \n",
       "42645  FIFA World Cup qualification  Barranquilla   Colombia    False  \n",
       "42646  FIFA World Cup qualification      Asunción   Paraguay    False  \n",
       "42647  FIFA World Cup qualification    Montevideo    Uruguay    False  \n",
       "42648  FIFA World Cup qualification  Buenos Aires  Argentina    False  \n",
       "42649  FIFA World Cup qualification        Recife     Brazil    False  \n",
       "\n",
       "[42650 rows x 9 columns]"
      ]
     },
     "execution_count": 3,
     "metadata": {},
     "output_type": "execute_result"
    }
   ],
   "source": [
    "# Read the dataset into the Pandas DataFrame!\n",
    "import pandas as pd\n",
    "df = pd.read_csv(\"results.csv\")\n",
    "#Does the dataset include any missing values? If so, delete the missing values’ entries!\n",
    "df.dropna()"
   ]
  },
  {
   "cell_type": "code",
   "execution_count": 4,
   "id": "3f9696ff",
   "metadata": {},
   "outputs": [
    {
     "data": {
      "text/plain": [
       "42650"
      ]
     },
     "execution_count": 4,
     "metadata": {},
     "output_type": "execute_result"
    }
   ],
   "source": [
    "# Exploring the Dataset\n",
    "# Answer the following questions about the dataset using Python commands:\n",
    "# How many tuples are there in the dataset?\n",
    "len(df)"
   ]
  },
  {
   "cell_type": "code",
   "execution_count": 5,
   "id": "c9d7de94",
   "metadata": {},
   "outputs": [
    {
     "data": {
      "text/plain": [
       "120"
      ]
     },
     "execution_count": 5,
     "metadata": {},
     "output_type": "execute_result"
    }
   ],
   "source": [
    "# How many tournaments are there in the dataset?\n",
    "len(df.tournament.unique())"
   ]
  },
  {
   "cell_type": "code",
   "execution_count": 6,
   "id": "74a9cc81",
   "metadata": {},
   "outputs": [
    {
     "data": {
      "text/plain": [
       "date          datetime64[ns]\n",
       "home_team             object\n",
       "away_team             object\n",
       "home_score             int64\n",
       "away_score             int64\n",
       "tournament            object\n",
       "city                  object\n",
       "country               object\n",
       "neutral                 bool\n",
       "dtype: object"
      ]
     },
     "execution_count": 6,
     "metadata": {},
     "output_type": "execute_result"
    }
   ],
   "source": [
    "# Convert and Deduce\n",
    "# Convert the column date to timestamps!\n",
    "df['date'] = pd.to_datetime(df['date'])\n",
    "# Find out how many matches in the dataset were played in 2018.\n",
    "# HINT: use the Date Column\n",
    "start_date = pd.to_datetime('2018-01-01')\n",
    "end_date = pd.to_datetime('2018-12-31')\n",
    "df[(df['date'] >= start_date) & (df['date'] <= end_date)]\n",
    "#df['date'] = df['date'].dt.strftime('%Y-%m-%d')\n",
    "df.dtypes\n"
   ]
  },
  {
   "cell_type": "code",
   "execution_count": 7,
   "id": "20dd4133",
   "metadata": {},
   "outputs": [
    {
     "name": "stdout",
     "output_type": "stream",
     "text": [
      "[20739, 12074, 9837]\n"
     ]
    }
   ],
   "source": [
    "# Team Statistics\n",
    "# Calculate how many times the home team won, lost, or had a draw.\n",
    "homeWins = 0\n",
    "homeLosses = 0\n",
    "homeDraws = 0\n",
    "for i in range(len(df)):\n",
    "   if df['home_score'].loc[i] > df['away_score'].loc[i]:\n",
    "      homeWins += 1\n",
    "   elif df['home_score'].loc[i] < df['away_score'].loc[i]:\n",
    "      homeLosses += 1\n",
    "   else:\n",
    "      homeDraws += 1\n",
    "homeStats = [homeWins, homeLosses, homeDraws]\n",
    "print(homeStats)"
   ]
  },
  {
   "cell_type": "code",
   "execution_count": 8,
   "id": "10038868",
   "metadata": {},
   "outputs": [
    {
     "data": {
      "text/plain": [
       "([<matplotlib.patches.Wedge at 0x2b937a7b290>,\n",
       "  <matplotlib.patches.Wedge at 0x2b937a7ade0>,\n",
       "  <matplotlib.patches.Wedge at 0x2b937a7b9b0>],\n",
       " [Text(0.04746637221253046, 1.0989754062348174, 'Home Wins'),\n",
       "  Text(-0.7639751740114014, -0.7914176732258695, 'Home Losses'),\n",
       "  Text(0.8236470240463938, -0.7291128717691929, 'Home Draws')])"
      ]
     },
     "execution_count": 8,
     "metadata": {},
     "output_type": "execute_result"
    },
    {
     "data": {
      "image/png": "[encoded data removed]",
      "text/plain": [
       "<Figure size 640x480 with 1 Axes>"
      ]
     },
     "metadata": {},
     "output_type": "display_data"
    }
   ],
   "source": [
    "# Plot the numbers extracted from Step 5 in a pie chart.\n",
    "import matplotlib.pyplot as plt\n",
    "\n",
    "myLabels = [\"Home Wins\", \"Home Losses\", \"Home Draws\"]\n",
    "plt.pie(homeStats, labels = myLabels)\n"
   ]
  },
  {
   "cell_type": "code",
   "execution_count": null,
   "id": "1fac6445",
   "metadata": {},
   "outputs": [
    {
     "data": {
      "text/plain": [
       "<Axes: ylabel='count'>"
      ]
     },
     "execution_count": 27,
     "metadata": {},
     "output_type": "execute_result"
    },
    {
     "data": {
      "image/png": "[encoded data removed]",
      "text/plain": [
       "<Figure size 640x480 with 1 Axes>"
      ]
     },
     "metadata": {},
     "output_type": "display_data"
    }
   ],
   "source": [
    "# Plot the neutral column as a pie chart.\n",
    "# in one line\n",
    "df['neutral'].value_counts().plot.pie()"
   ]
  },
  {
   "cell_type": "code",
   "execution_count": 35,
   "id": "71453dc3",
   "metadata": {},
   "outputs": [
    {
     "data": {
      "text/plain": [
       "313"
      ]
     },
     "execution_count": 35,
     "metadata": {},
     "output_type": "execute_result"
    }
   ],
   "source": [
    "# How many unique teams are there in the dataset?\n",
    "combine_teams = pd.concat([df['home_team'], df['away_team']])\n",
    "len(combine_teams.unique())"
   ]
  }
 ],
 "metadata": {
  "kernelspec": {
   "display_name": "base",
   "language": "python",
   "name": "python3"
  },
  "language_info": {
   "codemirror_mode": {
    "name": "ipython",
    "version": 3
   },
   "file_extension": ".py",
   "mimetype": "text/x-python",
   "name": "python",
   "nbconvert_exporter": "python",
   "pygments_lexer": "ipython3",
   "version": "3.12.7"
  }
 },
 "nbformat": 4,
 "nbformat_minor": 5
}
