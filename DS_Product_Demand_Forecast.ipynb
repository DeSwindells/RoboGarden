{
 "cells": [
  {
   "cell_type": "markdown",
   "id": "cb8dfa00",
   "metadata": {},
   "source": [
    "# Module 4 Assesment: Product Demand Forecasts\n"
   ]
  },
  {
   "cell_type": "markdown",
   "id": "2f485a3d",
   "metadata": {},
   "source": [
    "# Read the dataset"
   ]
  },
  {
   "cell_type": "code",
   "execution_count": null,
   "id": "4f90e280",
   "metadata": {},
   "outputs": [
    {
     "data": {
      "text/html": [
       "<div>\n",
       "<style scoped>\n",
       "    .dataframe tbody tr th:only-of-type {\n",
       "        vertical-align: middle;\n",
       "    }\n",
       "\n",
       "    .dataframe tbody tr th {\n",
       "        vertical-align: top;\n",
       "    }\n",
       "\n",
       "    .dataframe thead th {\n",
       "        text-align: right;\n",
       "    }\n",
       "</style>\n",
       "<table border=\"1\" class=\"dataframe\">\n",
       "  <thead>\n",
       "    <tr style=\"text-align: right;\">\n",
       "      <th></th>\n",
       "      <th>Product_Code</th>\n",
       "      <th>Warehouse</th>\n",
       "      <th>Product_Category</th>\n",
       "      <th>Date</th>\n",
       "      <th>Order_Demand</th>\n",
       "    </tr>\n",
       "  </thead>\n",
       "  <tbody>\n",
       "    <tr>\n",
       "      <th>0</th>\n",
       "      <td>Product_0993</td>\n",
       "      <td>Whse_J</td>\n",
       "      <td>Category_028</td>\n",
       "      <td>2012/7/27</td>\n",
       "      <td>100</td>\n",
       "    </tr>\n",
       "    <tr>\n",
       "      <th>1</th>\n",
       "      <td>Product_0979</td>\n",
       "      <td>Whse_J</td>\n",
       "      <td>Category_028</td>\n",
       "      <td>2012/1/19</td>\n",
       "      <td>500</td>\n",
       "    </tr>\n",
       "    <tr>\n",
       "      <th>2</th>\n",
       "      <td>Product_0979</td>\n",
       "      <td>Whse_J</td>\n",
       "      <td>Category_028</td>\n",
       "      <td>2012/2/3</td>\n",
       "      <td>500</td>\n",
       "    </tr>\n",
       "    <tr>\n",
       "      <th>3</th>\n",
       "      <td>Product_0979</td>\n",
       "      <td>Whse_J</td>\n",
       "      <td>Category_028</td>\n",
       "      <td>2012/2/9</td>\n",
       "      <td>500</td>\n",
       "    </tr>\n",
       "    <tr>\n",
       "      <th>4</th>\n",
       "      <td>Product_0979</td>\n",
       "      <td>Whse_J</td>\n",
       "      <td>Category_028</td>\n",
       "      <td>2012/3/2</td>\n",
       "      <td>500</td>\n",
       "    </tr>\n",
       "    <tr>\n",
       "      <th>...</th>\n",
       "      <td>...</td>\n",
       "      <td>...</td>\n",
       "      <td>...</td>\n",
       "      <td>...</td>\n",
       "      <td>...</td>\n",
       "    </tr>\n",
       "    <tr>\n",
       "      <th>1048570</th>\n",
       "      <td>Product_1791</td>\n",
       "      <td>Whse_J</td>\n",
       "      <td>Category_006</td>\n",
       "      <td>2016/4/27</td>\n",
       "      <td>1000</td>\n",
       "    </tr>\n",
       "    <tr>\n",
       "      <th>1048571</th>\n",
       "      <td>Product_1974</td>\n",
       "      <td>Whse_J</td>\n",
       "      <td>Category_006</td>\n",
       "      <td>2016/4/27</td>\n",
       "      <td>1</td>\n",
       "    </tr>\n",
       "    <tr>\n",
       "      <th>1048572</th>\n",
       "      <td>Product_1787</td>\n",
       "      <td>Whse_J</td>\n",
       "      <td>Category_006</td>\n",
       "      <td>2016/4/28</td>\n",
       "      <td>2500</td>\n",
       "    </tr>\n",
       "    <tr>\n",
       "      <th>1048573</th>\n",
       "      <td>Product_0901</td>\n",
       "      <td>Whse_J</td>\n",
       "      <td>Category_023</td>\n",
       "      <td>2016/10/7</td>\n",
       "      <td>50</td>\n",
       "    </tr>\n",
       "    <tr>\n",
       "      <th>1048574</th>\n",
       "      <td>Product_0704</td>\n",
       "      <td>Whse_J</td>\n",
       "      <td>Category_001</td>\n",
       "      <td>2016/6/27</td>\n",
       "      <td>4</td>\n",
       "    </tr>\n",
       "  </tbody>\n",
       "</table>\n",
       "<p>1048575 rows × 5 columns</p>\n",
       "</div>"
      ],
      "text/plain": [
       "         Product_Code Warehouse Product_Category       Date Order_Demand\n",
       "0        Product_0993    Whse_J     Category_028  2012/7/27         100 \n",
       "1        Product_0979    Whse_J     Category_028  2012/1/19         500 \n",
       "2        Product_0979    Whse_J     Category_028   2012/2/3         500 \n",
       "3        Product_0979    Whse_J     Category_028   2012/2/9         500 \n",
       "4        Product_0979    Whse_J     Category_028   2012/3/2         500 \n",
       "...               ...       ...              ...        ...          ...\n",
       "1048570  Product_1791    Whse_J     Category_006  2016/4/27        1000 \n",
       "1048571  Product_1974    Whse_J     Category_006  2016/4/27           1 \n",
       "1048572  Product_1787    Whse_J     Category_006  2016/4/28        2500 \n",
       "1048573  Product_0901    Whse_J     Category_023  2016/10/7          50 \n",
       "1048574  Product_0704    Whse_J     Category_001  2016/6/27           4 \n",
       "\n",
       "[1048575 rows x 5 columns]"
      ]
     },
     "execution_count": 7,
     "metadata": {},
     "output_type": "execute_result"
    }
   ],
   "source": [
    "# Read the dataset into a Pandas Dataframe.\n",
    "import pandas as pd\n",
    "df = pd.read_csv(\"Historical Product Demand.csv\")\n",
    "df"
   ]
  },
  {
   "cell_type": "code",
   "execution_count": 8,
   "id": "a99884b0",
   "metadata": {},
   "outputs": [
    {
     "name": "stdout",
     "output_type": "stream",
     "text": [
      "Shape Before NA Drop:  (1048575, 5)\n",
      "Shape After NA Drop:  (1048575, 5)\n",
      "No NA Values detected\n"
     ]
    }
   ],
   "source": [
    "# Does the dataset include any missing values? \n",
    "before_drop = df.shape\n",
    "print('Shape Before NA Drop: ', before_drop)\n",
    "df.dropna\n",
    "after_drop = df.shape\n",
    "print(\"Shape After NA Drop: \", after_drop)\n",
    "if before_drop == after_drop:\n",
    "    print(\"No NA Values detected\")\n",
    "else:\n",
    "    print(\"NA Values have been dropped\")"
   ]
  },
  {
   "cell_type": "markdown",
   "id": "dcbeb011",
   "metadata": {},
   "source": [
    "# Extract Features"
   ]
  },
  {
   "cell_type": "code",
   "execution_count": 9,
   "id": "e716f820",
   "metadata": {},
   "outputs": [
    {
     "name": "stdout",
     "output_type": "stream",
     "text": [
      "0           100 \n",
      "1           500 \n",
      "2           500 \n",
      "3           500 \n",
      "4           500 \n",
      "           ...  \n",
      "1048570    1000 \n",
      "1048571       1 \n",
      "1048572    2500 \n",
      "1048573      50 \n",
      "1048574       4 \n",
      "Name: Order_Demand, Length: 1048575, dtype: object\n"
     ]
    }
   ],
   "source": [
    "df_features = df.drop(['Date', 'Warehouse'], axis = 1)\n",
    "df_features\n",
    "print(df_features['Order_Demand'])"
   ]
  },
  {
   "cell_type": "markdown",
   "id": "e630f6b5",
   "metadata": {},
   "source": [
    "# Perform Preprocessing\n",
    "Perform any needed pre-processing on the chosen features including: Scaling, Encoding, Dealing with Nan values.\n",
    "Hint: Use only the preprocessing steps you think are useful."
   ]
  },
  {
   "cell_type": "code",
   "execution_count": 10,
   "id": "36aae871",
   "metadata": {},
   "outputs": [
    {
     "data": {
      "text/html": [
       "<div>\n",
       "<style scoped>\n",
       "    .dataframe tbody tr th:only-of-type {\n",
       "        vertical-align: middle;\n",
       "    }\n",
       "\n",
       "    .dataframe tbody tr th {\n",
       "        vertical-align: top;\n",
       "    }\n",
       "\n",
       "    .dataframe thead th {\n",
       "        text-align: right;\n",
       "    }\n",
       "</style>\n",
       "<table border=\"1\" class=\"dataframe\">\n",
       "  <thead>\n",
       "    <tr style=\"text-align: right;\">\n",
       "      <th></th>\n",
       "      <th>Product_Code</th>\n",
       "      <th>Product_Category</th>\n",
       "      <th>Order_Demand</th>\n",
       "    </tr>\n",
       "  </thead>\n",
       "  <tbody>\n",
       "    <tr>\n",
       "      <th>0</th>\n",
       "      <td>982</td>\n",
       "      <td>27</td>\n",
       "      <td>100</td>\n",
       "    </tr>\n",
       "    <tr>\n",
       "      <th>1</th>\n",
       "      <td>968</td>\n",
       "      <td>27</td>\n",
       "      <td>500</td>\n",
       "    </tr>\n",
       "    <tr>\n",
       "      <th>2</th>\n",
       "      <td>968</td>\n",
       "      <td>27</td>\n",
       "      <td>500</td>\n",
       "    </tr>\n",
       "    <tr>\n",
       "      <th>3</th>\n",
       "      <td>968</td>\n",
       "      <td>27</td>\n",
       "      <td>500</td>\n",
       "    </tr>\n",
       "    <tr>\n",
       "      <th>4</th>\n",
       "      <td>968</td>\n",
       "      <td>27</td>\n",
       "      <td>500</td>\n",
       "    </tr>\n",
       "    <tr>\n",
       "      <th>...</th>\n",
       "      <td>...</td>\n",
       "      <td>...</td>\n",
       "      <td>...</td>\n",
       "    </tr>\n",
       "    <tr>\n",
       "      <th>1048570</th>\n",
       "      <td>1780</td>\n",
       "      <td>5</td>\n",
       "      <td>1000</td>\n",
       "    </tr>\n",
       "    <tr>\n",
       "      <th>1048571</th>\n",
       "      <td>1962</td>\n",
       "      <td>5</td>\n",
       "      <td>1</td>\n",
       "    </tr>\n",
       "    <tr>\n",
       "      <th>1048572</th>\n",
       "      <td>1776</td>\n",
       "      <td>5</td>\n",
       "      <td>2500</td>\n",
       "    </tr>\n",
       "    <tr>\n",
       "      <th>1048573</th>\n",
       "      <td>890</td>\n",
       "      <td>22</td>\n",
       "      <td>50</td>\n",
       "    </tr>\n",
       "    <tr>\n",
       "      <th>1048574</th>\n",
       "      <td>703</td>\n",
       "      <td>0</td>\n",
       "      <td>4</td>\n",
       "    </tr>\n",
       "  </tbody>\n",
       "</table>\n",
       "<p>1048575 rows × 3 columns</p>\n",
       "</div>"
      ],
      "text/plain": [
       "         Product_Code  Product_Category Order_Demand\n",
       "0                 982                27         100 \n",
       "1                 968                27         500 \n",
       "2                 968                27         500 \n",
       "3                 968                27         500 \n",
       "4                 968                27         500 \n",
       "...               ...               ...          ...\n",
       "1048570          1780                 5        1000 \n",
       "1048571          1962                 5           1 \n",
       "1048572          1776                 5        2500 \n",
       "1048573           890                22          50 \n",
       "1048574           703                 0           4 \n",
       "\n",
       "[1048575 rows x 3 columns]"
      ]
     },
     "execution_count": 10,
     "metadata": {},
     "output_type": "execute_result"
    }
   ],
   "source": [
    "# Encoding\n",
    "from sklearn.preprocessing import LabelEncoder\n",
    "encoder = LabelEncoder()\n",
    "encoder.fit(df_features['Product_Code'])\n",
    "df_features['Product_Code'] = encoder.transform(df_features['Product_Code'])\n",
    "encoder.fit(df_features['Product_Category'])\n",
    "df_features['Product_Category'] = encoder.transform(df_features['Product_Category'])\n",
    "df_features"
   ]
  },
  {
   "cell_type": "code",
   "execution_count": 11,
   "id": "af2f6dfe",
   "metadata": {},
   "outputs": [],
   "source": [
    "# Scaling\n",
    "from sklearn.preprocessing import StandardScaler\n",
    "scaler = StandardScaler()\n",
    "df_features['Order_Demand'] = df_features['Order_Demand'].str.replace('(', \"\")\n",
    "df_features['Order_Demand'] = df_features['Order_Demand'].str.replace(')', \"\")\n",
    "df_features['Order_Demand'] = df_features['Order_Demand'].astype('int64')"
   ]
  },
  {
   "cell_type": "markdown",
   "id": "8233e842",
   "metadata": {},
   "source": [
    "# Split the data"
   ]
  },
  {
   "cell_type": "code",
   "execution_count": 12,
   "id": "9b9d447e",
   "metadata": {},
   "outputs": [
    {
     "name": "stdout",
     "output_type": "stream",
     "text": [
      "[ 100  500  500 ... 2500   50    4]\n",
      "         Product_Code  Product_Category\n",
      "0                 982                27\n",
      "1                 968                27\n",
      "2                 968                27\n",
      "3                 968                27\n",
      "4                 968                27\n",
      "...               ...               ...\n",
      "1048570          1780                 5\n",
      "1048571          1962                 5\n",
      "1048572          1776                 5\n",
      "1048573           890                22\n",
      "1048574           703                 0\n",
      "\n",
      "[1048575 rows x 2 columns]\n"
     ]
    }
   ],
   "source": [
    "# 80% training set, 10% validation set, 10% test set\n",
    "from sklearn.model_selection import train_test_split\n",
    "encoded_y = df_features.iloc[:,2].values\n",
    "print(encoded_y)\n",
    "encoded_X = df_features.iloc[:, 0:2]\n",
    "print(encoded_X)\n",
    "X_train, X_test, y_train, y_test = train_test_split(encoded_X, encoded_y, test_size=0.1, train_size=0.2, random_state=0) # split the data to a test set by 20% using 0.2\n",
    "X_validate, X_test, y_validate, y_test = train_test_split(X_test, y_test, test_size=0.1,train_size=0.5, random_state=0) # split the test set by %50 using 0.5 "
   ]
  },
  {
   "cell_type": "markdown",
   "id": "aefdf43b",
   "metadata": {},
   "source": [
    "# Training K-Nearest Neighbor (KNN) Regression\n",
    "Use a KNN regressor model to train your data. Choose the best k for the KNN algorithm by trying different values and validating performance on the validation set."
   ]
  },
  {
   "cell_type": "code",
   "execution_count": 13,
   "id": "a63441c7",
   "metadata": {},
   "outputs": [
    {
     "name": "stdout",
     "output_type": "stream",
     "text": [
      "[-0.42, 0.06, 0.1, 0.11, 0.12, 0.13, 0.11, 0.1, 0.11, 0.12, 0.11, 0.11, 0.11, 0.11, 0.11, 0.11, 0.11, 0.11, 0.11]\n",
      "6\n"
     ]
    }
   ],
   "source": [
    "from sklearn.neighbors import KNeighborsRegressor \n",
    "# Choose the best value of K \n",
    "scores = []\n",
    "results = 0\n",
    "best_score = 0\n",
    "neighbors = range(1,20)\n",
    "\n",
    "for i in neighbors:\n",
    "    model = KNeighborsRegressor(n_neighbors=i).fit(X_train, y_train)\n",
    "    results = model.score(X_test, y_test)\n",
    "    scores.append(round(results,2))\n",
    "    if results > best_score:\n",
    "        best_score = results\n",
    "        best_k = i\n",
    "        best_model = model\n",
    "print(scores)\n",
    "print(best_k)"
   ]
  },
  {
   "cell_type": "code",
   "execution_count": 16,
   "id": "cc7f49fc",
   "metadata": {},
   "outputs": [
    {
     "name": "stdout",
     "output_type": "stream",
     "text": [
      "The Best model has an accuracy of:  0.09\n"
     ]
    }
   ],
   "source": [
    "# Print the R-Squared score of your final K-Nearest Neighbor (KNN) regressor\n",
    "accuracy = best_model.score(X_validate, y_validate)\n",
    "y_pred = best_model.predict(X_test)\n",
    "print('The Best model has an accuracy of: ', round(accuracy,2))"
   ]
  },
  {
   "cell_type": "markdown",
   "id": "eb0de8c5",
   "metadata": {},
   "source": [
    "# Challenge Yourself\n",
    "Repeat step 6 for a different regression modelling technique."
   ]
  },
  {
   "cell_type": "code",
   "execution_count": null,
   "id": "71a84147",
   "metadata": {},
   "outputs": [],
   "source": [
    "# takes extremely long to run this cell\n",
    "from sklearn.ensemble import RandomForestRegressor\n",
    "modelRF = RandomForestRegressor(criterion = 'absolute_error', max_leaf_nodes=100).fit(X_train, y_train.ravel())\n",
    "scoreRF = modelRF.score(X_test, y_test)\n",
    "y_pred = modelRF.predict(X_test)\n",
    "print(scoreRF)"
   ]
  },
  {
   "cell_type": "code",
   "execution_count": 17,
   "id": "55fafc17",
   "metadata": {},
   "outputs": [
    {
     "name": "stdout",
     "output_type": "stream",
     "text": [
      "Accuracy:  0.09044992596699253\n",
      "MSE: 1369841326.0391974\n"
     ]
    }
   ],
   "source": [
    "from sklearn.metrics import mean_squared_error\n",
    "print(\"Accuracy: \", accuracy)\n",
    "print(\"MSE: \" + str(mean_squared_error(y_test, y_pred)))"
   ]
  }
 ],
 "metadata": {
  "kernelspec": {
   "display_name": "base",
   "language": "python",
   "name": "python3"
  },
  "language_info": {
   "codemirror_mode": {
    "name": "ipython",
    "version": 3
   },
   "file_extension": ".py",
   "mimetype": "text/x-python",
   "name": "python",
   "nbconvert_exporter": "python",
   "pygments_lexer": "ipython3",
   "version": "3.12.7"
  }
 },
 "nbformat": 4,
 "nbformat_minor": 5
}
