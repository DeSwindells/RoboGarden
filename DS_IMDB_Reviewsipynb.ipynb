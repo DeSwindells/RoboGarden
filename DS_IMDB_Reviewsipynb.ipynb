{
 "cells": [
  {
   "cell_type": "markdown",
   "id": "dac280ad",
   "metadata": {},
   "source": [
    "# Module 7 Assesment: IMDB Reviews"
   ]
  },
  {
   "cell_type": "markdown",
   "id": "a2e23fa8",
   "metadata": {},
   "source": [
    "# Step 1: Read the Dataset\n",
    "To use the dataset from Keras datasets, use these lines of code:"
   ]
  },
  {
   "cell_type": "code",
   "execution_count": 1,
   "id": "a5926d30",
   "metadata": {},
   "outputs": [
    {
     "name": "stdout",
     "output_type": "stream",
     "text": [
      "Downloading data from https://storage.googleapis.com/tensorflow/tf-keras-datasets/imdb.npz\n",
      "\u001b[1m17464789/17464789\u001b[0m \u001b[32m━━━━━━━━━━━━━━━━━━━━\u001b[0m\u001b[37m\u001b[0m \u001b[1m0s\u001b[0m 0us/step\n"
     ]
    }
   ],
   "source": [
    "import numpy as np\n",
    "np.load.__defaults__=(None, True, True, 'ASCII')\n",
    "from keras.datasets import imdb\n",
    "\n",
    "(x_train, y_train), (x_test, y_test) = imdb.load_data(path=\"imdb.npz\", maxlen=130, num_words=6000)"
   ]
  },
  {
   "cell_type": "markdown",
   "id": "8884ca87",
   "metadata": {},
   "source": [
    "# Step 2: Padding Your Sequences\n",
    "You need to have equal sequences for training; for, this you will apply padding.\n",
    "Write these lines of code to implement the padding needed:"
   ]
  },
  {
   "cell_type": "code",
   "execution_count": 2,
   "id": "874fde6e",
   "metadata": {},
   "outputs": [],
   "source": [
    "from tensorflow.keras.preprocessing import sequence\n",
    "x_train = sequence.pad_sequences(x_train, maxlen=130) "
   ]
  },
  {
   "cell_type": "markdown",
   "id": "ead738d1",
   "metadata": {},
   "source": [
    "# Step 3: uild The RNN Network\n",
    "Define an RNN with the following layers:"
   ]
  },
  {
   "cell_type": "code",
   "execution_count": 3,
   "id": "e2f49f93",
   "metadata": {},
   "outputs": [],
   "source": [
    "# An embedding layer with the following parameters:\n",
    "# The input dimension is 6000.\n",
    "# The output dimension is 128.\n",
    "# The input length is 130.\n",
    "# An LSTM layer with 32 units.\n",
    "# A fully connected layer with the following parameters:\n",
    "# Activation function is ReLU.\n",
    "# The number of units is 20.\n",
    "# A dropout layer with a dropout rate of 5%.\n",
    "# A fully connected layer with the following parameters:\n",
    "# Activation function is sigmoid.\n",
    "# The number of units is one."
   ]
  },
  {
   "cell_type": "code",
   "execution_count": 4,
   "id": "0a377c7d",
   "metadata": {},
   "outputs": [],
   "source": [
    "# RNN Model\n",
    "from keras.models import Sequential\n",
    "model = Sequential()"
   ]
  },
  {
   "cell_type": "code",
   "execution_count": 5,
   "id": "466f4ec1",
   "metadata": {},
   "outputs": [
    {
     "name": "stderr",
     "output_type": "stream",
     "text": [
      "c:\\Users\\dswinde\\AppData\\Local\\anaconda3\\Lib\\site-packages\\keras\\src\\layers\\core\\embedding.py:97: UserWarning: Argument `input_length` is deprecated. Just remove it.\n",
      "  warnings.warn(\n"
     ]
    }
   ],
   "source": [
    "# Embedding layer\n",
    "from keras.layers import Embedding\n",
    "model.add(Embedding(6000, 128, input_length=130))"
   ]
  },
  {
   "cell_type": "code",
   "execution_count": 6,
   "id": "63e760be",
   "metadata": {},
   "outputs": [],
   "source": [
    "# LTSM Layer\n",
    "from keras.layers import LSTM\n",
    "model.add(LSTM(32))"
   ]
  },
  {
   "cell_type": "code",
   "execution_count": 8,
   "id": "607bcb4e",
   "metadata": {},
   "outputs": [],
   "source": [
    "# Dense Layer\n",
    "from keras.layers import Dense\n",
    "model.add(Dense(units=20, activation='relu'))"
   ]
  },
  {
   "cell_type": "code",
   "execution_count": 9,
   "id": "a4b986fd",
   "metadata": {},
   "outputs": [],
   "source": [
    "# Dropout Layer\n",
    "from keras.layers import Dropout\n",
    "model.add(Dropout(0.5))"
   ]
  },
  {
   "cell_type": "code",
   "execution_count": 10,
   "id": "673edea2",
   "metadata": {},
   "outputs": [],
   "source": [
    "# Dense Layer\n",
    "model.add(Dense(units=1, activation='sigmoid'))"
   ]
  },
  {
   "cell_type": "markdown",
   "id": "cf548260",
   "metadata": {},
   "source": [
    "# Step 4: Choosing Hyperparameters\n",
    "Build the network using the following parameters:\n",
    "Optimizer: Adam\n",
    "Loss function: binary_crossentropy\n",
    "Metrics: accuracy\n",
    "Epochs: 5\n",
    "Batch size: 100"
   ]
  },
  {
   "cell_type": "code",
   "execution_count": 11,
   "id": "b607467d",
   "metadata": {},
   "outputs": [],
   "source": [
    "model.compile(optimizer='adam', loss='binary_crossentropy', metrics=['accuracy'])"
   ]
  },
  {
   "cell_type": "markdown",
   "id": "2ba843e5",
   "metadata": {},
   "source": [
    "# Step 5: Training Network\n",
    "Use Keras to implement the network described and train your data.\n",
    "Note: your code should return the model."
   ]
  },
  {
   "cell_type": "code",
   "execution_count": 12,
   "id": "b90d7c51",
   "metadata": {},
   "outputs": [
    {
     "name": "stdout",
     "output_type": "stream",
     "text": [
      "Epoch 1/5\n",
      "\u001b[1m62/62\u001b[0m \u001b[32m━━━━━━━━━━━━━━━━━━━━\u001b[0m\u001b[37m\u001b[0m \u001b[1m3s\u001b[0m 34ms/step - accuracy: 0.5730 - loss: 0.6837\n",
      "Epoch 2/5\n",
      "\u001b[1m62/62\u001b[0m \u001b[32m━━━━━━━━━━━━━━━━━━━━\u001b[0m\u001b[37m\u001b[0m \u001b[1m2s\u001b[0m 33ms/step - accuracy: 0.8568 - loss: 0.3859\n",
      "Epoch 3/5\n",
      "\u001b[1m62/62\u001b[0m \u001b[32m━━━━━━━━━━━━━━━━━━━━\u001b[0m\u001b[37m\u001b[0m \u001b[1m2s\u001b[0m 33ms/step - accuracy: 0.9262 - loss: 0.2283\n",
      "Epoch 4/5\n",
      "\u001b[1m62/62\u001b[0m \u001b[32m━━━━━━━━━━━━━━━━━━━━\u001b[0m\u001b[37m\u001b[0m \u001b[1m2s\u001b[0m 33ms/step - accuracy: 0.9601 - loss: 0.1359\n",
      "Epoch 5/5\n",
      "\u001b[1m62/62\u001b[0m \u001b[32m━━━━━━━━━━━━━━━━━━━━\u001b[0m\u001b[37m\u001b[0m \u001b[1m2s\u001b[0m 31ms/step - accuracy: 0.9774 - loss: 0.0842\n"
     ]
    },
    {
     "data": {
      "text/plain": [
       "<keras.src.callbacks.history.History at 0x197fc59e5d0>"
      ]
     },
     "execution_count": 12,
     "metadata": {},
     "output_type": "execute_result"
    }
   ],
   "source": [
    "model.fit(x_train, y_train, epochs=5, batch_size=100)"
   ]
  },
  {
   "cell_type": "code",
   "execution_count": 13,
   "id": "03a68073",
   "metadata": {},
   "outputs": [
    {
     "data": {
      "text/plain": [
       "<Sequential name=sequential, built=True>"
      ]
     },
     "execution_count": 13,
     "metadata": {},
     "output_type": "execute_result"
    }
   ],
   "source": [
    "model"
   ]
  }
 ],
 "metadata": {
  "kernelspec": {
   "display_name": "base",
   "language": "python",
   "name": "python3"
  },
  "language_info": {
   "codemirror_mode": {
    "name": "ipython",
    "version": 3
   },
   "file_extension": ".py",
   "mimetype": "text/x-python",
   "name": "python",
   "nbconvert_exporter": "python",
   "pygments_lexer": "ipython3",
   "version": "3.12.3"
  }
 },
 "nbformat": 4,
 "nbformat_minor": 5
}
